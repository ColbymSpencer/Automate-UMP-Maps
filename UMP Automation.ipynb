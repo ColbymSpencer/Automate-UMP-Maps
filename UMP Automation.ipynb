{
 "cells": [
  {
   "cell_type": "markdown",
   "metadata": {},
   "source": [
    "Load several functions:\n",
    "\n",
    "    * get_site_name_from_park_boundary()\n",
    "    \n",
    "    * apply_site_name_query(site_name_value,\n",
    "                            aprx = arcpy.mp.ArcGISProject(\"CURRENT\"),\n",
    "                            map_name = None)\n",
    "                            \n",
    "    * remove_queries(aprx = arcpy.mp.ArcGISProject(\"CURRENT\"),\n",
    "                     map_name = None)\n",
    "                     \n",
    "    * zoom_to_active_park(aprx = arcpy.mp.ArcGISProject(\"CURRENT\"))\n",
    "    \n",
    "    * update_layer_datasources(aprx = arcpy.mp.ArcGISProject(\"CURRENT\"),\n",
    "                               map_name = None, \n",
    "                               old_path = r\"C:\\Users\\Spencer_C\\Desktop\\GDB Copy\\FloridaStateParksGIS.gdb\", \n",
    "                               new_path = r\"\\\\floridadep\\data\\DRP\\GIS\\statewidecoverages\\FloridaStateParksGIS.gdb\")\n",
    "                               \n",
    "    * save_layout_file(output_folder=r'C:\\Users\\Spencer_C\\Documents\\UMP_Automation_Testing\\testing', \n",
    "                       aprx=arcpy.mp.ArcGISProject(\"CURRENT\"), \n",
    "                       layout_name=None, \n",
    "                       pagx_filename=None)\n",
    "    "
   ]
  },
  {
   "cell_type": "code",
   "execution_count": 2,
   "metadata": {},
   "outputs": [
    {
     "ename": "ModuleNotFoundError",
     "evalue": "No module named 'UMP_Tools'",
     "output_type": "error",
     "traceback": [
      "\u001b[0;31m---------------------------------------------------------------------------\u001b[0m\n\u001b[0;31mModuleNotFoundError\u001b[0m                       Traceback (most recent call last)",
      "In  \u001b[0;34m[2]\u001b[0m:\nLine \u001b[0;34m1\u001b[0m:     \u001b[34mfrom\u001b[39;49;00m \u001b[04m\u001b[36mUMP_Tools\u001b[39;49;00m \u001b[34mimport\u001b[39;49;00m *\u001b[37m\u001b[39;49;00m\n",
      "\u001b[0;31mModuleNotFoundError\u001b[0m: No module named 'UMP_Tools'\n\u001b[0;31m---------------------------------------------------------------------------\u001b[0m"
     ]
    }
   ],
   "source": [
    "from UMP_Tools import *"
   ]
  },
  {
   "cell_type": "code",
   "execution_count": null,
   "metadata": {},
   "outputs": [],
   "source": [
    "def get_site_name_from_park_boundary():\n",
    "    \"\"\"\n",
    "    Returns the 'site_name' attribute(s) of selected features in the\n",
    "    'Park Boundary' layer of the current map in ArcGIS Pro.\n",
    "\n",
    "    Returns:\n",
    "        list: A list of 'site_name' values from the selected features.\n",
    "    \"\"\"\n",
    "    site_names = []\n",
    "\n",
    "    # Access the current ArcGIS Pro project and the active map\n",
    "    aprx = arcpy.mp.ArcGISProject(\"CURRENT\")\n",
    "    active_map = aprx.activeMap\n",
    "\n",
    "    # Attempt to get the 'Park Boundary' layer\n",
    "    park_layer = None\n",
    "    for lyr in active_map.listLayers():\n",
    "        if lyr.name.lower() == \"park boundary\" and lyr.supports(\"SELECTION\") and not lyr.isGroupLayer:\n",
    "            park_layer = lyr\n",
    "            break\n",
    "\n",
    "    if not park_layer:\n",
    "        print(\"Layer 'Park Boundary' not found or not valid.\")\n",
    "        return site_names\n",
    "\n",
    "    # Check for 'site_name' field\n",
    "    fields = [f.name.lower() for f in arcpy.ListFields(park_layer)]\n",
    "    if \"site_name\" not in fields:\n",
    "        print(\"Field 'site_name' not found in 'Park Boundary' layer.\")\n",
    "        return site_names\n",
    "\n",
    "    # Get selected feature IDs\n",
    "    selected_oids = park_layer.getSelectionSet()\n",
    "    if not selected_oids:\n",
    "        print(\"No features selected in 'Park Boundary' layer.\")\n",
    "        return site_names\n",
    "\n",
    "    # Use SearchCursor to fetch 'site_name' values\n",
    "    with arcpy.da.SearchCursor(park_layer, [\"site_name\"], where_clause=f\"OBJECTID IN ({','.join(map(str, selected_oids))})\") as cursor:\n",
    "        for row in cursor:\n",
    "            site_names.append(row[0])\n",
    "\n",
    "    return site_names"
   ]
  },
  {
   "cell_type": "code",
   "execution_count": null,
   "metadata": {},
   "outputs": [],
   "source": [
    "def apply_site_name_query(site_name_value,\n",
    "                          aprx = arcpy.mp.ArcGISProject(\"CURRENT\"),\n",
    "                          map_name = None):\n",
    "    \"\"\"\n",
    "    Applies a definition query to all layers in the given map object\n",
    "    where the layer has a 'site_name' field. The query filters the layer\n",
    "    to only include features where site_name equals the input string.\n",
    "\n",
    "    Parameters:\n",
    "        map_name (str): The map name containing layers.\n",
    "        site_name_value (str): The site name value to filter by.\n",
    "        aprx (project object): The project to look for the map in. The default value is the current project.\n",
    "    \"\"\"\n",
    "    # Get name of active map\n",
    "    if not map_name:\n",
    "        map_name = aprx.activeMap.name\n",
    "        \n",
    "    # Get map object using the map name\n",
    "    try:\n",
    "        map_obj = aprx.listMaps(map_name)[0]\n",
    "    except Exception as e:\n",
    "        print(f\"Could not find {map_name}: {e}\")\n",
    "        \n",
    "    # Apply definition queries to all appropriate layers in the map       \n",
    "    for lyr in map_obj.listLayers():\n",
    "        if lyr.supports(\"DEFINITIONQUERY\") and lyr.supports(\"DATASOURCE\") and not lyr.isGroupLayer:\n",
    "            try:\n",
    "                # Check if 'site_name' field exists\n",
    "                desc = arcpy.Describe(lyr)\n",
    "                fields = [f.name.lower() for f in arcpy.ListFields(lyr)]\n",
    "                if 'site_name' in fields:\n",
    "                    # Apply definition query\n",
    "                    dql = lyr.listDefinitionQueries()\n",
    "                    for dq in dql:\n",
    "                        dq['isActive'] = False\n",
    "                    lyr.updateDefinitionQueries([{'name': 'Site Name Query', 'sql': f\"site_name = '{site_name_value}'\", 'isActive': True}])\n",
    "                    #print(f\"Applied query to {lyr.name}: {query}\")\n",
    "            except Exception as e:\n",
    "                print(f\"Could not apply query to {lyr.name}: {e}\")"
   ]
  },
  {
   "cell_type": "code",
   "execution_count": null,
   "metadata": {},
   "outputs": [],
   "source": [
    "def remove_queries(aprx = arcpy.mp.ArcGISProject(\"CURRENT\"),\n",
    "                   map_name = None):\n",
    "    \"\"\"\n",
    "    Remove all definition queries added by apply_site_name_query().\n",
    "\n",
    "    Parameters:\n",
    "        map_name (str): The map name containing layers.\n",
    "        aprx (project object): The project to look for the map in. The default value is the current project.\n",
    "    \"\"\"\n",
    "    # Get name of active map\n",
    "    if not map_name:\n",
    "        map_name = aprx.activeMap.name\n",
    "    # Get map object from name\n",
    "    try:\n",
    "        map_obj = aprx.listMaps(map_name)[0]\n",
    "    except Exception as e:\n",
    "        print(f\"Could not find {map_name}: {e}\")\n",
    "    # Apply definition queries to all appropriate layers in the map    \n",
    "    for lyr in map_obj.listLayers():\n",
    "        if lyr.supports(\"DEFINITIONQUERY\") and lyr.supports(\"DATASOURCE\") and not lyr.isGroupLayer:\n",
    "            try:\n",
    "                # Check if 'site_name' field exists\n",
    "                desc = arcpy.Describe(lyr)\n",
    "                fields = [f.name.lower() for f in arcpy.ListFields(lyr)]\n",
    "                if 'site_name' in fields:\n",
    "                    # Apply definition query\n",
    "                    dql = lyr.listDefinitionQueries()\n",
    "                    for dq in dql:\n",
    "                        dq['isActive'] = False\n",
    "                    lyr.updateDefinitionQueries([{}])\n",
    "                    #print(f\"Applied query to {lyr.name}: {query}\")\n",
    "            except Exception as e:\n",
    "                print(f\"Could not apply query to {lyr.name}: {e}\")"
   ]
  },
  {
   "cell_type": "code",
   "execution_count": null,
   "metadata": {},
   "outputs": [],
   "source": [
    "def zoom_to_active_park(aprx = arcpy.mp.ArcGISProject(\"CURRENT\")):\n",
    "    \"\"\"\n",
    "    Zooms to the park that is selected in the active map.\n",
    "\n",
    "    Parameters:\n",
    "        aprx (project): the project to change the active view of\n",
    "    \"\"\"\n",
    "    mv = aprx.activeView # mapview\n",
    "    m = mv.map # map\n",
    "    try:\n",
    "        mv.camera.setExtent(mv.getLayerExtent(m.listLayers('Park Boundary')[0]))\n",
    "    except Exception as e:\n",
    "        print(f\"Could not zoom to the Park Boundry layer: {e}\")"
   ]
  },
  {
   "cell_type": "code",
   "execution_count": null,
   "metadata": {},
   "outputs": [],
   "source": [
    "import os\n",
    "\n",
    "def update_layer_datasources(aprx = arcpy.mp.ArcGISProject(\"CURRENT\"),\n",
    "                             map_name = None, \n",
    "                             old_path = r\"C:\\Users\\Spencer_C\\Desktop\\GDB Copy\\FloridaStateParksGIS.gdb\", \n",
    "                             new_path = r\"\\\\floridadep\\data\\DRP\\GIS\\statewidecoverages\\FloridaStateParksGIS.gdb\"):\n",
    "    \"\"\"\n",
    "    Replaces the workspace path of each layer in the map from the local GDB\n",
    "    to the network GDB.\n",
    "\n",
    "    Parameters:\n",
    "        aprx (project): project that contains the maps and the layers. The default argument is the current project.\n",
    "        map_name (str): The name of the map containing layers to update. The default argument is the \n",
    "        old_path (str): the file path to the geodatabase to convert from.\n",
    "        new_path (str): the file path to the geodatabase to convert to\n",
    "    \"\"\"\n",
    "    # Get name of active map\n",
    "    if not map_name:\n",
    "        map_name = aprx.activeMap.name\n",
    "        \n",
    "    # Get map object from name\n",
    "    try:\n",
    "        map_obj = aprx.listMaps(map_name)[0]\n",
    "    except Exception as e:\n",
    "        print(f\"Could not find {map_name}: {e}\")\n",
    "    \n",
    "    # Update layer datasources\n",
    "    for lyr in map_obj.listLayers():\n",
    "        if lyr.supports(\"DATASOURCE\") and not lyr.isGroupLayer:\n",
    "            try:\n",
    "                # Check if the layer is using the old path\n",
    "                current_path = lyr.dataSource\n",
    "                if old_path.lower() in current_path.lower():\n",
    "                    # Extract dataset name (feature class name)\n",
    "                    dataset_name = os.path.basename(current_path)\n",
    "                    # Update the data source\n",
    "                    lyr.updateConnectionProperties(old_path, new_path, validate=True)\n",
    "                    #print(f\"Updated {lyr.name} to use data from: {new_path}\\\\{dataset_name}\")\n",
    "            except Exception as e:\n",
    "                print(f\"Failed to update {lyr.name}: {e}\")"
   ]
  },
  {
   "cell_type": "code",
   "execution_count": null,
   "metadata": {},
   "outputs": [],
   "source": [
    "def save_layout_file(output_folder=r'C:\\Users\\Spencer_C\\Documents\\UMP_Automation_Testing\\testing', \n",
    "                     aprx=arcpy.mp.ArcGISProject(\"CURRENT\"), \n",
    "                     layout_name=None, \n",
    "                     pagx_filename=None):\n",
    "    \"\"\"\n",
    "    Exports a layout from an ArcGIS Pro project to a .pagx file.\n",
    "\n",
    "    Parameters:\n",
    "        aprx (project): project that contains the maps and the layers. The default argument is the current project.\n",
    "        output_folder (str): Directory where the .pagx file will be saved.\n",
    "        layout_name (str): Optional. Name of the layout to export. If None, the first layout is used.\n",
    "        pagx_filename (str): Optional. Filename for the exported .pagx file. Defaults to layout name.\n",
    "    \n",
    "    Returns:\n",
    "        str: Full path to the exported .pagx file.\n",
    "    \"\"\"\n",
    "    try:\n",
    "        if layout_name:\n",
    "            layout = next((lyt for lyt in aprx.listLayouts() if lyt.name == layout_name), None)\n",
    "            if not layout:\n",
    "                raise ValueError(f\"Layout named '{layout_name}' not found.\")\n",
    "        else:\n",
    "            layout = aprx.listLayouts()[0]  # default to first layout\n",
    "\n",
    "        # Determine filename\n",
    "        if not pagx_filename:\n",
    "            pagx_filename = f\"{layout.name}.pagx\"\n",
    "        pagx_path = os.path.join(output_folder, pagx_filename)\n",
    "\n",
    "        # Export the layout\n",
    "        layout.exportToPAGX(pagx_path)\n",
    "\n",
    "        print(f\"Layout '{layout.name}' exported successfully to: {pagx_path}\")\n",
    "        return pagx_path\n",
    "\n",
    "    except Exception as e:\n",
    "        print(f\"Error exporting layout: {e}\")\n",
    "        raise"
   ]
  },
  {
   "cell_type": "code",
   "execution_count": null,
   "metadata": {},
   "outputs": [],
   "source": [
    "apply_site_name_query(\"Base Map\", \"Lake Kissimmee State Park\")\n",
    "zoom_to_active_park()"
   ]
  },
  {
   "cell_type": "code",
   "execution_count": 1,
   "metadata": {},
   "outputs": [
    {
     "ename": "NameError",
     "evalue": "name 'apply_site_name_query' is not defined",
     "output_type": "error",
     "traceback": [
      "\u001b[0;31m---------------------------------------------------------------------------\u001b[0m\n\u001b[0;31mNameError\u001b[0m                                 Traceback (most recent call last)",
      "In  \u001b[0;34m[1]\u001b[0m:\nLine \u001b[0;34m1\u001b[0m:     apply_site_name_query(site_name_value = \u001b[33m\"\u001b[39;49;00m\u001b[33mTomoka State Park\u001b[39;49;00m\u001b[33m\"\u001b[39;49;00m)\u001b[37m\u001b[39;49;00m\n",
      "\u001b[0;31mNameError\u001b[0m: name 'apply_site_name_query' is not defined\n\u001b[0;31m---------------------------------------------------------------------------\u001b[0m"
     ]
    }
   ],
   "source": [
    "apply_site_name_query(site_name_value = \"Tomoka State Park\")\n",
    "zoom_to_active_park()"
   ]
  },
  {
   "cell_type": "code",
   "execution_count": 54,
   "metadata": {},
   "outputs": [],
   "source": [
    "remove_queries()"
   ]
  },
  {
   "cell_type": "code",
   "execution_count": null,
   "metadata": {
    "scrolled": true
   },
   "outputs": [],
   "source": [
    "save_layout_file(output_folder=r'C:\\Users\\Spencer_C\\Documents\\UMP_Automation_Testing\\testing',\n",
    "                layout_name='Base Map 8.5x11P')"
   ]
  },
  {
   "cell_type": "code",
   "execution_count": null,
   "metadata": {},
   "outputs": [],
   "source": [
    "update_layer_datasources()\n",
    "save_layout_file(layout_name='Base Map 8.5x11P')\n",
    "update_layer_datasources(old_path = r\"\\\\floridadep\\data\\DRP\\GIS\\statewidecoverages\\FloridaStateParksGIS.gdb\", \n",
    "                         new_path = r\"C:\\Users\\Spencer_C\\Desktop\\GDB Copy\\FloridaStateParksGIS.gdb\")"
   ]
  },
  {
   "cell_type": "code",
   "execution_count": null,
   "metadata": {},
   "outputs": [],
   "source": []
  },
  {
   "cell_type": "markdown",
   "metadata": {},
   "source": [
    "code below does not work because if there are more than ~3 maps open, the layers 'do not exist'"
   ]
  },
  {
   "cell_type": "code",
   "execution_count": null,
   "metadata": {
    "scrolled": true
   },
   "outputs": [],
   "source": [
    "'''\n",
    "park_list = ['Orman House Historic State Park']\n",
    "#park_list = ['Dr. Julian G. Bruce St. George Island State Park','Orman House Historic State Park','John Gorrie Museum State Park']\n",
    "for park in park_list:\n",
    "    for map_obj in aprx.listMaps():\n",
    "        map_name = map_obj.name\n",
    "        apply_site_name_query(map_name, park)\n",
    "        #update_layer_datasources(map_name)\n",
    "    #aprx.saveACopy(f'C:/Users/Spencer_C/Documents/UMP_Automation_Testing/testing/{park} UMP.aprx')\n",
    "'''    "
   ]
  },
  {
   "cell_type": "code",
   "execution_count": null,
   "metadata": {},
   "outputs": [],
   "source": []
  }
 ],
 "metadata": {
  "kernelspec": {
   "display_name": "ArcGISPro",
   "language": "Python",
   "name": "python3"
  },
  "language_info": {
   "file_extension": ".py",
   "name": "python",
   "version": "3"
  }
 },
 "nbformat": 4,
 "nbformat_minor": 2
}
