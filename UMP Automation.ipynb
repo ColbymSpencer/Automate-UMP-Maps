{
 "cells": [
  {
   "cell_type": "markdown",
   "metadata": {},
   "source": [
    "Load several functions:\n",
    "\n",
    "    * get_site_name_from_park_boundary()\n",
    "    \n",
    "    * apply_site_name_query(site_name_value,\n",
    "                            aprx = arcpy.mp.ArcGISProject(\"CURRENT\"),\n",
    "                            map_name = None)\n",
    "                            \n",
    "    * remove_queries(aprx = arcpy.mp.ArcGISProject(\"CURRENT\"),\n",
    "                     map_name = None)\n",
    "                     \n",
    "    * zoom_to_active_park(aprx = arcpy.mp.ArcGISProject(\"CURRENT\"))\n",
    "    \n",
    "    * update_layer_datasources(aprx = arcpy.mp.ArcGISProject(\"CURRENT\"),\n",
    "                               map_name = None, \n",
    "                               old_path = r\"C:\\Users\\Spencer_C\\Desktop\\GDB Copy\\FloridaStateParksGIS.gdb\", \n",
    "                               new_path = r\"\\\\floridadep\\data\\DRP\\GIS\\statewidecoverages\\FloridaStateParksGIS.gdb\")\n",
    "                               \n",
    "    * save_layout_file(output_folder=r'C:\\Users\\Spencer_C\\Documents\\UMP_Automation_Testing\\testing', \n",
    "                       aprx=arcpy.mp.ArcGISProject(\"CURRENT\"), \n",
    "                       layout_name=None, \n",
    "                       pagx_filename=None)\n",
    "    "
   ]
  },
  {
   "cell_type": "markdown",
   "metadata": {},
   "source": [
    "### Get Site Name\n",
    "Getting the site name is pretty useless on its own, but can be useful when combined with other functions. Return the selected site name. If no selection is made, return all the 'site name' values in the layer - with a dqs applied this would only return the dq values. "
   ]
  },
  {
   "cell_type": "code",
   "execution_count": 55,
   "metadata": {},
   "outputs": [],
   "source": [
    "def get_site_name_from_park_boundary():\n",
    "    \"\"\"\n",
    "    Returns the 'site_name' attribute(s) of selected features in the\n",
    "    'Park Boundary' layer of the current map in ArcGIS Pro.\n",
    "\n",
    "    Returns:\n",
    "        list: A list of 'site_name' values from the selected features. If no features are selected, returns all site name values in the table\n",
    "    \"\"\"\n",
    "    site_names = []\n",
    "\n",
    "    # Access the current ArcGIS Pro project and the active map\n",
    "    aprx = arcpy.mp.ArcGISProject(\"CURRENT\")\n",
    "    active_map = aprx.activeMap\n",
    "\n",
    "    # Attempt to get the 'Park Boundary' layer\n",
    "    park_layer = None\n",
    "    for lyr in active_map.listLayers():\n",
    "        if lyr.name.lower() == \"park boundary\" and not lyr.isGroupLayer:\n",
    "            park_layer = lyr\n",
    "            break\n",
    "\n",
    "    if not park_layer:\n",
    "        print(\"Layer 'Park Boundary' not found or not valid.\")\n",
    "        return site_names\n",
    "\n",
    "    # Check for 'site_name' field\n",
    "    fields = [f.name.lower() for f in arcpy.ListFields(park_layer)]\n",
    "    if \"site_name\" not in fields:\n",
    "        print(\"Field 'site_name' not found in 'Park Boundary' layer.\")\n",
    "        return site_names\n",
    "\n",
    "    # Get selected feature IDs\n",
    "    selected_oids = park_layer.getSelectionSet()\n",
    "    \n",
    "    # If no selection made, return all the park names in the layer\n",
    "    if not selected_oids:\n",
    "        print(\"No features selected in 'Park Boundary' layer.\")\n",
    "        with arcpy.da.SearchCursor(park_layer, [\"site_name\"]) as cursor:\n",
    "            for row in cursor:\n",
    "                site_names.append(row[0])\n",
    "\n",
    "    # Use SearchCursor to fetch 'site_name' values\n",
    "    with arcpy.da.SearchCursor(park_layer, [\"site_name\"], where_clause=f\"OBJECTID IN ({','.join(map(str, selected_oids))})\") as cursor:\n",
    "        for row in cursor:\n",
    "            site_names.append(row[0])\n",
    "\n",
    "    return site_names"
   ]
  },
  {
   "cell_type": "code",
   "execution_count": 63,
   "metadata": {},
   "outputs": [
    {
     "data": {
      "text/plain": [
       "['Lake Jackson Mounds Archaeological State Park', 'Tallahassee-St. Marks Historic Railroad State Trail', 'Alfred B. Maclay Gardens State Park', 'Edward Ball Wakulla Springs State Park']"
      ]
     },
     "execution_count": 63,
     "metadata": {},
     "output_type": "execute_result"
    }
   ],
   "source": [
    "get_site_name_from_park_boundary()"
   ]
  },
  {
   "cell_type": "markdown",
   "metadata": {},
   "source": [
    "Apply site name queries to all layers in a map. The site name query can contain multiple values or just one."
   ]
  },
  {
   "cell_type": "code",
   "execution_count": 60,
   "metadata": {},
   "outputs": [],
   "source": [
    "def apply_site_name_query(site_name_value,\n",
    "                          aprx = arcpy.mp.ArcGISProject(\"CURRENT\"),\n",
    "                          map_name = None):\n",
    "    \"\"\"\n",
    "    Applies a definition query to all layers in the given map object\n",
    "    where the layer has a 'site_name' field. The query filters the layer\n",
    "    to only include features where site_name equals the input string.\n",
    "\n",
    "    Parameters:\n",
    "        map_name (str): The map name containing layers.\n",
    "        site_name_value (str): The site name value to filter by.\n",
    "        aprx (project object): The project to look for the map in. The default value is the current project.\n",
    "    \"\"\"\n",
    "    # Get name of active map\n",
    "    if not map_name:\n",
    "        map_name = aprx.activeMap.name\n",
    "        \n",
    "    # Get map object using the map name\n",
    "    try:\n",
    "        map_obj = aprx.listMaps(map_name)[0]\n",
    "    except Exception as e:\n",
    "        print(f\"Could not find {map_name}: {e}\")\n",
    "    \n",
    "    # Get DQ values from site_name_value\n",
    "    if isinstance(site_name_value, str):\n",
    "        site_name_value = [site_name_value]\n",
    "    dq_vals = '\\',\\''.join(site_name_value)\n",
    "    \n",
    "    # Apply definition queries to all appropriate layers in the map       \n",
    "    for lyr in map_obj.listLayers():\n",
    "        if lyr.supports(\"DEFINITIONQUERY\") and not lyr.isGroupLayer:\n",
    "            try:\n",
    "                # Check if 'site_name' field exists\n",
    "                desc = arcpy.Describe(lyr)\n",
    "                fields = [f.name.lower() for f in arcpy.ListFields(lyr)]\n",
    "                if 'site_name' in fields:\n",
    "                    # Apply definition query\n",
    "                    dql = lyr.listDefinitionQueries()\n",
    "                    for dq in dql:\n",
    "                        dq['isActive'] = False\n",
    "                    #lyr.updateDefinitionQueries([{'name': 'Site Name Query', 'sql': f\"site_name IN {site_name_value}\", 'isActive': True}])\n",
    "                    lyr.updateDefinitionQueries([{'name': 'Site Name Query', 'sql': f\"site_name IN (\\'{dq_vals}\\')\", 'isActive': True}])\n",
    "                    #print(f\"Applied query to {lyr.name}: {query}\")\n",
    "            except Exception as e:\n",
    "                print(f\"Could not apply query to {lyr.name}: {e}\")"
   ]
  },
  {
   "cell_type": "code",
   "execution_count": 61,
   "metadata": {},
   "outputs": [],
   "source": [
    "apply_site_name_query(get_site_name_from_park_boundary())"
   ]
  },
  {
   "cell_type": "code",
   "execution_count": 15,
   "metadata": {},
   "outputs": [],
   "source": [
    "apply_site_name_query('John Gorrie Museum State Park')"
   ]
  },
  {
   "cell_type": "code",
   "execution_count": 3,
   "metadata": {},
   "outputs": [],
   "source": [
    "def remove_queries(aprx = arcpy.mp.ArcGISProject(\"CURRENT\"),\n",
    "                   map_name = None):\n",
    "    \"\"\"\n",
    "    Remove all definition queries added by apply_site_name_query().\n",
    "\n",
    "    Parameters:\n",
    "        map_name (str): The map name containing layers.\n",
    "        aprx (project object): The project to look for the map in. The default value is the current project.\n",
    "    \"\"\"\n",
    "    # Get name of active map\n",
    "    if not map_name:\n",
    "        map_name = aprx.activeMap.name\n",
    "    # Get map object from name\n",
    "    try:\n",
    "        map_obj = aprx.listMaps(map_name)[0]\n",
    "    except Exception as e:\n",
    "        print(f\"Could not find {map_name}: {e}\")\n",
    "    # Apply definition queries to all appropriate layers in the map    \n",
    "    for lyr in map_obj.listLayers():\n",
    "        if lyr.supports(\"DEFINITIONQUERY\") and lyr.supports(\"DATASOURCE\") and not lyr.isGroupLayer:\n",
    "            try:\n",
    "                # Check if 'site_name' field exists\n",
    "                desc = arcpy.Describe(lyr)\n",
    "                fields = [f.name.lower() for f in arcpy.ListFields(lyr)]\n",
    "                if 'site_name' in fields:\n",
    "                    # Apply definition query\n",
    "                    dql = lyr.listDefinitionQueries()\n",
    "                    for dq in dql:\n",
    "                        dq['isActive'] = False\n",
    "                    lyr.updateDefinitionQueries([{}])\n",
    "                    #print(f\"Applied query to {lyr.name}: {query}\")\n",
    "            except Exception as e:\n",
    "                print(f\"Could not apply query to {lyr.name}: {e}\")"
   ]
  },
  {
   "cell_type": "code",
   "execution_count": 93,
   "metadata": {},
   "outputs": [],
   "source": [
    "remove_queries()"
   ]
  },
  {
   "cell_type": "code",
   "execution_count": 16,
   "metadata": {},
   "outputs": [],
   "source": [
    "def zoom_to_active_park(aprx = arcpy.mp.ArcGISProject(\"CURRENT\"),\n",
    "                        layer = 'Park Boundary'):\n",
    "    \"\"\"\n",
    "    Zooms to the park that is selected in the active map.\n",
    "\n",
    "    Parameters:\n",
    "        aprx (project): the project to change the active view of.\n",
    "        layer (str): the layer to zoom to. Default value is 'Park Boundary'.\n",
    "    \"\"\"\n",
    "    mv = aprx.activeView # mapview\n",
    "    m = mv.map # map\n",
    "    try:\n",
    "        mv.camera.setExtent(mv.getLayerExtent(m.listLayers(layer)[0]))\n",
    "    except Exception as e:\n",
    "        print(f\"Could not zoom to the Park Boundry layer: {e}\")"
   ]
  },
  {
   "cell_type": "code",
   "execution_count": 62,
   "metadata": {},
   "outputs": [],
   "source": [
    "zoom_to_active_park()"
   ]
  },
  {
   "cell_type": "markdown",
   "metadata": {},
   "source": [
    "it would be nice to be able to autimatically set reference scale. Reference scale in arcpy is the integer value of the scale ratio 1:x. If the refernce scale is not set, it's value is 0."
   ]
  },
  {
   "cell_type": "code",
   "execution_count": 64,
   "metadata": {},
   "outputs": [
    {
     "name": "stdout",
     "output_type": "stream",
     "text": [
      "755.0601623502109\n"
     ]
    }
   ],
   "source": [
    "aprx = arcpy.mp.ArcGISProject(\"CURRENT\")\n",
    "m = aprx.activeMap\n",
    "print(m.referenceScale)"
   ]
  },
  {
   "cell_type": "code",
   "execution_count": null,
   "metadata": {},
   "outputs": [],
   "source": [
    "'''\n",
    "import os\n",
    "\n",
    "def update_layer_datasources(aprx = arcpy.mp.ArcGISProject(\"CURRENT\"),\n",
    "                             map_name = None, \n",
    "                             old_path = r\"C:\\Users\\Spencer_C\\Desktop\\GDB Copy\\FloridaStateParksGIS.gdb\", \n",
    "                             new_path = r\"\\\\floridadep\\data\\DRP\\GIS\\statewidecoverages\\FloridaStateParksGIS.gdb\"):\n",
    "    \"\"\"\n",
    "    Replaces the workspace path of each layer in the map from the local GDB\n",
    "    to the network GDB.\n",
    "\n",
    "    Parameters:\n",
    "        aprx (project): project that contains the maps and the layers. The default argument is the current project.\n",
    "        map_name (str): The name of the map containing layers to update. The default argument is the \n",
    "        old_path (str): the file path to the geodatabase to convert from.\n",
    "        new_path (str): the file path to the geodatabase to convert to\n",
    "    \"\"\"\n",
    "    # Get name of active map\n",
    "    if not map_name:\n",
    "        map_name = aprx.activeMap.name\n",
    "        \n",
    "    # Get map object from name\n",
    "    try:\n",
    "        map_obj = aprx.listMaps(map_name)[0]\n",
    "    except Exception as e:\n",
    "        print(f\"Could not find {map_name}: {e}\")\n",
    "    \n",
    "    # Update layer datasources\n",
    "    for lyr in map_obj.listLayers():\n",
    "        if lyr.supports(\"DATASOURCE\") and not lyr.isGroupLayer:\n",
    "            try:\n",
    "                # Check if the layer is using the old path\n",
    "                current_path = lyr.dataSource\n",
    "                if old_path.lower() in current_path.lower():\n",
    "                    # Extract dataset name (feature class name)\n",
    "                    dataset_name = os.path.basename(current_path)\n",
    "                    # Update the data source\n",
    "                    lyr.updateConnectionProperties(old_path, new_path, validate=True)\n",
    "                    #print(f\"Updated {lyr.name} to use data from: {new_path}\\\\{dataset_name}\")\n",
    "            except Exception as e:\n",
    "                print(f\"Failed to update {lyr.name}: {e}\")\n",
    "'''"
   ]
  },
  {
   "cell_type": "markdown",
   "metadata": {},
   "source": [
    "EDIT DATA SOURCES IN LAYOUT FILE\n",
    "Editing data sources before a layout file is created is slow and prevents moving to a new task. Changing the data sources of a layour file that is not open"
   ]
  },
  {
   "cell_type": "markdown",
   "metadata": {},
   "source": [
    "this script works"
   ]
  },
  {
   "cell_type": "code",
   "execution_count": 10,
   "metadata": {},
   "outputs": [],
   "source": [
    "'''\n",
    "#import os\n",
    "old_path = r\"C:\\Users\\Spencer_C\\Desktop\\GDB Copy\\FloridaStateParksGIS.gdb\" \n",
    "new_path = r\"\\\\floridadep\\data\\DRP\\GIS\\statewidecoverages\\FloridaStateParksGIS.gdb\"\n",
    "layout = arcpy.mp.ConvertLayoutFileToLayout(r'C:\\Users\\Spencer_C\\Documents\\UMP_Automation_Testing\\testing\\testing.pagx')\n",
    "\n",
    "for mf in layout.listElements('MAPFRAME_ELEMENT'):\n",
    "    map_obj = mf.map\n",
    "    if map_obj:\n",
    "        for lyr in map_obj.listLayers():\n",
    "            if lyr.supports(\"DATASOURCE\") and not lyr.isGroupLayer:\n",
    "                try:\n",
    "                    # Check if the layer is using the old path\n",
    "                    current_path = lyr.dataSource\n",
    "                    if old_path.lower() in current_path.lower():\n",
    "                        # Extract dataset name (feature class name)\n",
    "                        #dataset_name = os.path.basename(current_path)\n",
    "                        # Update the data source\n",
    "                        lyr.updateConnectionProperties(old_path, new_path, validate=True)\n",
    "                        print(f\"Updated {lyr.name} to use data from: {new_path}\")\n",
    "                except Exception as e:\n",
    "                    print(f\"Failed to update {lyr.name}: {e}\")\n",
    "\n",
    "layout.exportToPAGX(r'C:\\Users\\Spencer_C\\Documents\\UMP_Automation_Testing\\testing\\Base Map 8.5x11P_updatedSources4.pagx')\n",
    "'''"
   ]
  },
  {
   "cell_type": "code",
   "execution_count": 26,
   "metadata": {},
   "outputs": [],
   "source": [
    "# example path: r'C:\\Users\\Spencer_C\\Documents\\UMP_Automation_Testing\\testing\\testing.pagx'\n",
    "def update_layout_datasources(pagx_path):\n",
    "    old_path = r\"C:\\Users\\Spencer_C\\Desktop\\GDB Copy\\FloridaStateParksGIS.gdb\" \n",
    "    new_path = r\"\\\\floridadep\\data\\DRP\\GIS\\statewidecoverages\\FloridaStateParksGIS.gdb\"\n",
    "    layout = arcpy.mp.ConvertLayoutFileToLayout(pagx_path)\n",
    "\n",
    "    for mf in layout.listElements('MAPFRAME_ELEMENT'):\n",
    "        map_obj = mf.map\n",
    "        if map_obj:\n",
    "            for lyr in map_obj.listLayers():\n",
    "                if lyr.supports(\"DATASOURCE\") and not lyr.isGroupLayer:\n",
    "                    try:\n",
    "                        # Check if the layer is using the old path\n",
    "                        current_path = lyr.dataSource\n",
    "                        if old_path.lower() in current_path.lower():\n",
    "                            # Extract dataset name (feature class name)\n",
    "                            # Update the data source\n",
    "                            lyr.updateConnectionProperties(old_path, new_path, validate=True)\n",
    "                            print(f\"Updated {lyr.name} to use data from: {new_path}\")\n",
    "                    except Exception as e:\n",
    "                        print(f\"Failed to update {lyr.name}: {e}\")\n",
    "\n",
    "    layout.exportToPAGX(pagx_path)"
   ]
  },
  {
   "cell_type": "code",
   "execution_count": 44,
   "metadata": {},
   "outputs": [
    {
     "name": "stdout",
     "output_type": "stream",
     "text": [
      "Failed to update Campsites: name 'os' is not defined\n",
      "Failed to update Special Use Points: name 'os' is not defined\n",
      "Failed to update Trails: name 'os' is not defined\n",
      "Failed to update Walkways: name 'os' is not defined\n",
      "Failed to update Park Roads: name 'os' is not defined\n",
      "Failed to update Special Use Areas: name 'os' is not defined\n",
      "Failed to update Structures: name 'os' is not defined\n",
      "Failed to update Marine Structures: name 'os' is not defined\n",
      "Failed to update Parking Lots: name 'os' is not defined\n",
      "Failed to update Park Boundary: name 'os' is not defined\n"
     ]
    }
   ],
   "source": [
    "update_layout_datasources()"
   ]
  },
  {
   "cell_type": "code",
   "execution_count": null,
   "metadata": {},
   "outputs": [],
   "source": [
    "'''\n",
    "def update_layout_datasource(output_folder=r'C:\\Users\\Spencer_C\\Documents\\UMP_Automation_Testing\\testing', \n",
    "                                  aprx=arcpy.mp.ArcGISProject(\"CURRENT\"), \n",
    "                                  layout_name=None, \n",
    "                                  pagx_filename=None,\n",
    "                                  old_path = r\"C:\\Users\\Spencer_C\\Desktop\\GDB Copy\\FloridaStateParksGIS.gdb\", \n",
    "                                  new_path = r\"\\\\floridadep\\data\\DRP\\GIS\\statewidecoverages\\FloridaStateParksGIS.gdb\"):\n",
    "    \n",
    "    # Determine filename\n",
    "    if not pagx_filename:\n",
    "        pagx_filename = f\"{layout.name}.pagx\"\n",
    "    pagx_path = os.path.join(output_folder, pagx_filename)\n",
    "    \n",
    "    # change data source\n",
    "    layout = arcpy.mp.ConvertLayoutFileToLayout(pagx_path)\n",
    "    \n",
    "    for mf in layout.listElements('MAPFRAME_ELEMENT'):\n",
    "        map_obj = mf.map\n",
    "        if map_obj:\n",
    "            for lyr in map_obj.listLayers():\n",
    "                if lyr.supports(\"DATASOURCE\") and not lyr.isGroupLayer:\n",
    "                    try:\n",
    "                        # Check if the layer is using the old path\n",
    "                        current_path = lyr.dataSource\n",
    "                        if old_path.lower() in current_path.lower():\n",
    "                            # Extract dataset name (feature class name)\n",
    "                            dataset_name = os.path.basename(current_path)\n",
    "                            # Update the data source\n",
    "                            lyr.updateConnectionProperties(old_path, new_path, validate=True)\n",
    "                            print(f\"Updated {lyr.name} to use data from: {new_path}\\\\{dataset_name}\")\n",
    "                    except Exception as e:\n",
    "                        print(f\"Failed to update {lyr.name}: {e}\")\n",
    "\n",
    "    layout.exportToPAGX(pagx_filename)\n",
    "'''"
   ]
  },
  {
   "cell_type": "code",
   "execution_count": 22,
   "metadata": {},
   "outputs": [],
   "source": [
    "## DOESNT WORK ##\n",
    "'''\n",
    "def update_layout_datasources(pagx_path = r'C:\\Users\\Spencer_C\\Documents\\UMP_Automation_Testing\\testing\\testing.pagx',\n",
    "                              old_path = r\"C:\\Users\\Spencer_C\\Desktop\\GDB Copy\\FloridaStateParksGIS.gdb\", \n",
    "                              new_path = r\"\\\\floridadep\\data\\DRP\\GIS\\statewidecoverages\\FloridaStateParksGIS.gdb\"):\n",
    "    \"\"\"\n",
    "    Loads a .pagx layout file, updates layer data sources from old_gdb to new_gdb.\n",
    "\n",
    "    Parameters:\n",
    "    - pagx_path: Full path to the .pagx file.\n",
    "    - old_gdb: The old geodatabase filename to be replaced (default: 'old.gdb').\n",
    "    - new_gdb: The new geodatabase filename to replace with (default: 'new.gdb').\n",
    "    \"\"\"\n",
    "    # Load the layout from the .pagx file\n",
    "    layout = arcpy.mp.ConvertLayoutFileToLayout(pagx_path)\n",
    "\n",
    "    print(f\"Processing layout: {pagx_path}\")\n",
    "\n",
    "    # Get all map frames in the layout\n",
    "    map_frames = layout.listElements(\"MAPFRAME_ELEMENT\")\n",
    "    for map_frame in map_frames:\n",
    "        map_obj = map_frame.map\n",
    "        if map_obj:\n",
    "            print(f\"  MapFrame: {map_frame.name} | Map: {map_obj.name}\")\n",
    "\n",
    "            for lyr in map_obj.listLayers():\n",
    "                if lyr.supports(\"DATASOURCE\"):\n",
    "                    datasource = lyr.dataSource\n",
    "                    if old_path in datasource:\n",
    "                        new_datasource = datasource.replace(old_path, new_path)\n",
    "                        try:\n",
    "                            lyr.updateConnectionProperties(datasource, new_datasource, validate = True)\n",
    "                            print(f\"    Updated: {lyr.name}\")\n",
    "                            print(f\"      Old: {datasource}\")\n",
    "                            print(f\"      New: {new_datasource}\")\n",
    "                        except Exception as e:\n",
    "                            print(f\"    Failed to update {lyr.name}: {e}\")\n",
    "                    else:\n",
    "                        print(f\"    Skipped (no match): {lyr.name}\")\n",
    "                else:\n",
    "                    print(f\"    Skipped (no datasource): {lyr.name}\")\n",
    "    layout.exportToPAGX(pagx_path)\n",
    "'''"
   ]
  },
  {
   "cell_type": "code",
   "execution_count": null,
   "metadata": {},
   "outputs": [],
   "source": [
    "update_layout_datasources()"
   ]
  },
  {
   "cell_type": "code",
   "execution_count": null,
   "metadata": {},
   "outputs": [],
   "source": [
    "save_layout_file(layout_name = 'Base Map 8.5x11P', pagx_filename = 'testing')"
   ]
  },
  {
   "cell_type": "code",
   "execution_count": null,
   "metadata": {},
   "outputs": [],
   "source": [
    "update_layout_datasource(layout_name = 'Base Map 8.5x11P', pagx_filename = 'testing')"
   ]
  },
  {
   "cell_type": "code",
   "execution_count": 21,
   "metadata": {},
   "outputs": [],
   "source": [
    "def save_layout_file(output_folder=r'C:\\Users\\Spencer_C\\Documents\\UMP_Automation_Testing\\testing', \n",
    "                     aprx=arcpy.mp.ArcGISProject(\"CURRENT\"), \n",
    "                     layout_name=None, \n",
    "                     pagx_filename=None):\n",
    "    \"\"\"\n",
    "    Exports a layout from an ArcGIS Pro project to a .pagx file.\n",
    "\n",
    "    Parameters:\n",
    "        aprx (project): project that contains the maps and the layers. The default argument is the current project.\n",
    "        output_folder (str): Directory where the .pagx file will be saved.\n",
    "        layout_name (str): Optional. Name of the layout to export. If None, the first layout is used.\n",
    "        pagx_filename (str): Optional. Filename for the exported .pagx file. Defaults to layout name.\n",
    "    \n",
    "    Returns:\n",
    "        str: Full path to the exported .pagx file.\n",
    "    \"\"\"\n",
    "    import os\n",
    "    try:\n",
    "        if layout_name:\n",
    "            layout = next((lyt for lyt in aprx.listLayouts() if lyt.name == layout_name), None)\n",
    "            if not layout:\n",
    "                raise ValueError(f\"Layout named '{layout_name}' not found.\")\n",
    "        else:\n",
    "            layout = aprx.listLayouts()[0]  # default to first layout\n",
    "\n",
    "        # Determine filename\n",
    "        if not pagx_filename:\n",
    "            pagx_filename = f\"{layout.name}.pagx\"\n",
    "        pagx_path = os.path.join(output_folder, pagx_filename)\n",
    "\n",
    "        # Export the layout\n",
    "        layout.exportToPAGX(pagx_path)\n",
    "\n",
    "        print(f\"Layout '{layout.name}' exported successfully to: {pagx_path}\")\n",
    "        return pagx_path\n",
    "\n",
    "    except Exception as e:\n",
    "        print(f\"Error exporting layout: {e}\")\n",
    "        raise"
   ]
  },
  {
   "cell_type": "code",
   "execution_count": 27,
   "metadata": {},
   "outputs": [
    {
     "name": "stdout",
     "output_type": "stream",
     "text": [
      "Layout 'Base Map 8.5x11P' exported successfully to: C:\\Users\\Spencer_C\\Documents\\UMP_Automation_Testing\\testing\\Base Map 8.5x11P.pagx\n"
     ]
    }
   ],
   "source": [
    "pagx_path = save_layout_file(layout_name = 'Base Map 8.5x11P')\n",
    "update_layout_datasources(pagx_path)"
   ]
  },
  {
   "cell_type": "markdown",
   "metadata": {},
   "source": [
    "Labels for a natcom map are changed during a natcom maps creation. Change the labels back to default."
   ]
  },
  {
   "cell_type": "code",
   "execution_count": 87,
   "metadata": {},
   "outputs": [],
   "source": [
    "def reset_natcom_labels(aprx=arcpy.mp.ArcGISProject(\"CURRENT\"),\n",
    "                       local_path = r'C:\\Users\\Spencer_C\\Documents\\UMP_Automation_Testing\\Layer_Files\\Natural Communities.lyrx',\n",
    "                       network_path = r'\\\\floridadep\\data\\DRP\\GIS\\LEGENDS\\Layer_Files\\Natural Communities.lyrx'):\n",
    "    \"\"\"\n",
    "    resets the labels for natcoms to their default (no acreages)\n",
    "    \n",
    "    Parameters:\n",
    "        \n",
    "    Returns:\n",
    "        \n",
    "    \"\"\"\n",
    "    # Get the active map\n",
    "    active_map = aprx.activeMap\n",
    "\n",
    "    # Attempt to get the 'Natural Communities' layer\n",
    "    for lyr in active_map.listLayers():\n",
    "        try:\n",
    "            if lyr.name == \"Natural Communities (In Acres)\" and not lyr.isGroupLayer:\n",
    "                natcoms = lyr\n",
    "        except Exception as e:\n",
    "            print(f\"Could not find \\\"Natural Communities (In Acres)\\\" layer: {e}\")\n",
    "            \n",
    "    try: #try local copy\n",
    "        lf = arcpy.mp.LayerFile(local_path)\n",
    "        reference_lyr = lf.listLayers()[0]\n",
    "    except:\n",
    "        print('Local copy of the natcoms reference layer could not be found. The network copy was used instead.')\n",
    "        lf = arcpy.mp.LayerFile(network_path)\n",
    "        reference_lyr = lf.listLayers()[0]\n",
    "    arcpy.management.ApplySymbologyFromLayer(natcoms, reference_lyr)"
   ]
  },
  {
   "cell_type": "code",
   "execution_count": 88,
   "metadata": {},
   "outputs": [],
   "source": [
    "reset_natcom_labels()"
   ]
  },
  {
   "cell_type": "markdown",
   "metadata": {},
   "source": [
    "Calculate the total area by natcom and update its label"
   ]
  },
  {
   "cell_type": "code",
   "execution_count": null,
   "metadata": {},
   "outputs": [],
   "source": [
    "def update_natcom_labels(aprx=arcpy.mp.ArcGISProject(\"CURRENT\")):\n",
    "    \"\"\"\n",
    "    Updates the lables for natcoms to include the total area. \n",
    "    This function should be run after a definition query has been applied.\n",
    "    \n",
    "    Parameters:\n",
    "        \n",
    "    Returns:\n",
    "        \n",
    "    \"\"\"\n",
    "    # Get the active map\n",
    "    active_map = aprx.activeMap\n",
    "\n",
    "    # Attempt to get the 'Natural Communities' layer\n",
    "    park_layer = None\n",
    "    for lyr in active_map.listLayers():\n",
    "        if lyr.name == \"Natural Communities\" and lyr.supports(\"SELECTION\") and not lyr.isGroupLayer:\n",
    "            park_layer = lyr\n",
    "            break"
   ]
  },
  {
   "cell_type": "markdown",
   "metadata": {},
   "source": [
    "Explore changing the symbology for active maps"
   ]
  },
  {
   "cell_type": "code",
   "execution_count": 100,
   "metadata": {},
   "outputs": [
    {
     "name": "stdout",
     "output_type": "stream",
     "text": [
      "<arcpy._symbology.Symbology object at 0x000001797FD2D730>\n",
      "<arcpy._symbology.Symbology object at 0x00000179BA1218E0>\n"
     ]
    }
   ],
   "source": [
    "# Get active map\n",
    "aprx=arcpy.mp.ArcGISProject(\"CURRENT\")\n",
    "active_map = aprx.activeMap\n",
    "\n",
    "# Get 'Natural Communities' layer\n",
    "for lyr in active_map.listLayers():\n",
    "    if lyr.name == \"Natural Communities (In Acres)\" and not lyr.isGroupLayer:\n",
    "        natcoms = lyr\n",
    "\n",
    "sym = natcoms.symbology\n",
    "print(natcoms.symbology)\n",
    "\n",
    "# Check if the layer's renderer is a UniqueValueRenderer\n",
    "if natcoms.symbology.renderer.type == 'UniqueValueRenderer':\n",
    "    renderer = natcoms.symbology.renderer\n",
    "\n",
    "    # Iterate through unique values and modify their labels\n",
    "    for unique_value in renderer.groups[0].items:\n",
    "        # Example: Add a prefix to the label\n",
    "        unique_value.label = \"Prefix: \" + unique_value.label\n",
    "        #print(unique_value.label)\n",
    "\n",
    "#natcoms.symbology = sym\n",
    "print(natcoms.symbology)\n",
    "    # Refresh the view to see the changes (if working in ArcMap)\n",
    "    #arcpy.RefreshActiveView()\n",
    "    # arcpy.RefreshTOC()\n"
   ]
  },
  {
   "cell_type": "code",
   "execution_count": null,
   "metadata": {},
   "outputs": [],
   "source": []
  },
  {
   "cell_type": "code",
   "execution_count": null,
   "metadata": {},
   "outputs": [],
   "source": []
  },
  {
   "cell_type": "code",
   "execution_count": null,
   "metadata": {},
   "outputs": [],
   "source": []
  },
  {
   "cell_type": "code",
   "execution_count": null,
   "metadata": {},
   "outputs": [],
   "source": [
    "apply_site_name_query(\"Lake Kissimmee State Park\")\n",
    "zoom_to_active_park()"
   ]
  },
  {
   "cell_type": "code",
   "execution_count": null,
   "metadata": {},
   "outputs": [],
   "source": [
    "apply_site_name_query('Orman House Historic State Park')\n",
    "zoom_to_active_park()"
   ]
  },
  {
   "cell_type": "code",
   "execution_count": null,
   "metadata": {},
   "outputs": [],
   "source": [
    "remove_queries()"
   ]
  },
  {
   "cell_type": "code",
   "execution_count": null,
   "metadata": {
    "scrolled": true
   },
   "outputs": [],
   "source": [
    "save_layout_file(output_folder=r'C:\\Users\\Spencer_C\\Documents\\UMP_Automation_Testing\\testing',\n",
    "                layout_name='Base Map 8.5x11P')"
   ]
  },
  {
   "cell_type": "code",
   "execution_count": null,
   "metadata": {},
   "outputs": [],
   "source": [
    "update_layer_datasources()\n",
    "save_layout_file(output_folder = r'\\\\floridadep\\data\\DRP\\GIS\\PARKS\\Orman House Historic State Park\\Projects\\UMP',\n",
    "                 layout_name = 'Base Map 8.5x11P')\n",
    "update_layer_datasources(old_path = r\"\\\\floridadep\\data\\DRP\\GIS\\statewidecoverages\\FloridaStateParksGIS.gdb\", \n",
    "                         new_path = r\"C:\\Users\\Spencer_C\\Desktop\\GDB Copy\\FloridaStateParksGIS.gdb\")"
   ]
  },
  {
   "cell_type": "code",
   "execution_count": null,
   "metadata": {},
   "outputs": [],
   "source": []
  },
  {
   "cell_type": "markdown",
   "metadata": {},
   "source": [
    "code below does not work because if there are more than ~3 maps open, the layers 'do not exist'"
   ]
  },
  {
   "cell_type": "code",
   "execution_count": null,
   "metadata": {
    "scrolled": true
   },
   "outputs": [],
   "source": [
    "'''\n",
    "park_list = ['Orman House Historic State Park']\n",
    "#park_list = ['Dr. Julian G. Bruce St. George Island State Park','Orman House Historic State Park','John Gorrie Museum State Park']\n",
    "for park in park_list:\n",
    "    for map_obj in aprx.listMaps():\n",
    "        map_name = map_obj.name\n",
    "        apply_site_name_query(map_name, park)\n",
    "        #update_layer_datasources(map_name)\n",
    "    #aprx.saveACopy(f'C:/Users/Spencer_C/Documents/UMP_Automation_Testing/testing/{park} UMP.aprx')\n",
    "'''    "
   ]
  },
  {
   "cell_type": "code",
   "execution_count": null,
   "metadata": {},
   "outputs": [],
   "source": []
  }
 ],
 "metadata": {
  "kernelspec": {
   "display_name": "ArcGISPro",
   "language": "Python",
   "name": "python3"
  },
  "language_info": {
   "file_extension": ".py",
   "name": "python",
   "version": "3"
  }
 },
 "nbformat": 4,
 "nbformat_minor": 2
}
